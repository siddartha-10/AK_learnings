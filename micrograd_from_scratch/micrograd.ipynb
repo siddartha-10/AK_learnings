{
 "cells": [
  {
   "cell_type": "code",
   "execution_count": 1,
   "id": "68a35a0c",
   "metadata": {},
   "outputs": [],
   "source": [
    "import math\n",
    "import numpy as np\n",
    "import matplotlib.pyplot as plt\n",
    "%matplotlib inline"
   ]
  },
  {
   "cell_type": "code",
   "execution_count": 2,
   "id": "3e04dbd9",
   "metadata": {},
   "outputs": [],
   "source": [
    "def f(x):\n",
    "    return 2*x**2 + 4*x - 5"
   ]
  },
  {
   "cell_type": "code",
   "execution_count": 3,
   "id": "dd911f90",
   "metadata": {},
   "outputs": [
    {
     "data": {
      "text/plain": [
       "11"
      ]
     },
     "execution_count": 3,
     "metadata": {},
     "output_type": "execute_result"
    }
   ],
   "source": [
    "f(2)"
   ]
  },
  {
   "cell_type": "code",
   "execution_count": 4,
   "id": "e07128ae",
   "metadata": {},
   "outputs": [],
   "source": [
    "xs = np.arange(-5,5,0.5)\n",
    "ys = f(xs)"
   ]
  },
  {
   "cell_type": "code",
   "execution_count": 5,
   "id": "c5c717f5",
   "metadata": {},
   "outputs": [
    {
     "data": {
      "text/plain": [
       "[<matplotlib.lines.Line2D at 0x115a3cbb0>]"
      ]
     },
     "execution_count": 5,
     "metadata": {},
     "output_type": "execute_result"
    },
    {
     "data": {
      "image/png": "[encoded data removed]",
      "text/plain": [
       "<Figure size 640x480 with 1 Axes>"
      ]
     },
     "metadata": {},
     "output_type": "display_data"
    }
   ],
   "source": [
    "plt.plot(xs,ys)"
   ]
  },
  {
   "cell_type": "code",
   "execution_count": 8,
   "id": "d73baa21",
   "metadata": {},
   "outputs": [],
   "source": [
    "a = 3\n",
    "b = -4\n",
    "c = 15\n",
    "\n",
    "d = a*b + c"
   ]
  },
  {
   "cell_type": "code",
   "execution_count": 9,
   "id": "c57315c7",
   "metadata": {},
   "outputs": [
    {
     "name": "stdout",
     "output_type": "stream",
     "text": [
      "3\n"
     ]
    }
   ],
   "source": [
    "print(d)"
   ]
  },
  {
   "cell_type": "code",
   "execution_count": 12,
   "id": "c6ec12ed",
   "metadata": {},
   "outputs": [
    {
     "name": "stdout",
     "output_type": "stream",
     "text": [
      "d1 3\n",
      "d2 2.9960000000000004\n",
      "slope -3.9999999999995595\n",
      "here we can see when the value of a is incresed only by a bit the slope is -ve\n"
     ]
    }
   ],
   "source": [
    "# we will nudge the values of a,b and c with h(small value) and see the behaviour or d\n",
    "\n",
    "h = 0.001\n",
    "a = 3\n",
    "b = -4\n",
    "c = 15\n",
    "\n",
    "\n",
    "d1 = a*b + c\n",
    "a = a+h # increasing a\n",
    "d2 = a*b + c\n",
    "\n",
    "print(\"d1\",d1)\n",
    "print(\"d2\",d2)\n",
    "print(\"slope\", (d2 - d1)/h)\n",
    "\n",
    "\n",
    "print(\"here we can see when the value of a is incresed only by a bit the slope is -ve\")"
   ]
  },
  {
   "cell_type": "code",
   "execution_count": 14,
   "id": "9da76ff6",
   "metadata": {},
   "outputs": [
    {
     "name": "stdout",
     "output_type": "stream",
     "text": [
      "d1 3\n",
      "d2 3.003\n",
      "slope 3.0000000000001137\n",
      "here we can see when the value of b is increased only by a bit the slope is +ve\n"
     ]
    }
   ],
   "source": [
    "h = 0.001\n",
    "a = 3\n",
    "b = -4\n",
    "c = 15\n",
    "\n",
    "\n",
    "d1 = a*b + c\n",
    "b = b+h # increasing b\n",
    "d2 = a*b + c\n",
    "\n",
    "print(\"d1\",d1)\n",
    "print(\"d2\",d2)\n",
    "print(\"slope\", (d2 - d1)/h)\n",
    "\n",
    "print(\"here we can see when the value of b is increased only by a bit the slope is +ve\")"
   ]
  },
  {
   "cell_type": "code",
   "execution_count": 15,
   "id": "83e232ae",
   "metadata": {},
   "outputs": [
    {
     "name": "stdout",
     "output_type": "stream",
     "text": [
      "d1 3\n",
      "d2 3.0009999999999994\n",
      "slope 0.9999999999994458\n",
      "here we can see when the value of c is increased only by a bit the slope is +ve\n"
     ]
    }
   ],
   "source": [
    "h = 0.001\n",
    "a = 3\n",
    "b = -4\n",
    "c = 15\n",
    "\n",
    "\n",
    "d1 = a*b + c\n",
    "c = c+h # increasing c\n",
    "d2 = a*b + c\n",
    "\n",
    "print(\"d1\",d1)\n",
    "print(\"d2\",d2)\n",
    "print(\"slope\", (d2 - d1)/h)\n",
    "\n",
    "print(\"here we can see when the value of c is increased only by a bit the slope is +ve\")"
   ]
  },
  {
   "cell_type": "code",
   "execution_count": 34,
   "id": "d493eb6b",
   "metadata": {},
   "outputs": [],
   "source": [
    "class Value:\n",
    "    \n",
    "    def __init__(self,data):\n",
    "        self.data = data\n",
    "    \n",
    "    def __repr__(self):\n",
    "        return f\"Value(data={self.data})\"\n",
    "    \n",
    "    def __add__(self,other):\n",
    "        out = Value(self.data + other.data) # why Value(self.data+other.data) because we want the \n",
    "        #return type to be Value\n",
    "        return out\n",
    "    \n",
    "    def __mul__(self,other):\n",
    "        mul = Value(self.data*other.data)\n",
    "        return mul"
   ]
  },
  {
   "cell_type": "code",
   "execution_count": 35,
   "id": "5086cc88",
   "metadata": {},
   "outputs": [
    {
     "data": {
      "text/plain": [
       "Value(data=2.0)"
      ]
     },
     "execution_count": 35,
     "metadata": {},
     "output_type": "execute_result"
    }
   ],
   "source": [
    "a = Value(2.0)\n",
    "a\n",
    "# now the type of a is Value"
   ]
  },
  {
   "cell_type": "code",
   "execution_count": 33,
   "id": "d19370c6",
   "metadata": {},
   "outputs": [
    {
     "name": "stdout",
     "output_type": "stream",
     "text": [
      "Value(data=5.0)\n"
     ]
    },
    {
     "data": {
      "text/plain": [
       "__main__.Value"
      ]
     },
     "execution_count": 33,
     "metadata": {},
     "output_type": "execute_result"
    }
   ],
   "source": [
    "a = Value(2.0)\n",
    "b = Value(3.0)\n",
    "\n",
    "print(a+b)\n",
    "type(a+b) # python does not know what is the addition of 2 Value type variables so we add a method add in the\n",
    "#class Value."
   ]
  },
  {
   "cell_type": "code",
   "execution_count": 36,
   "id": "1fb1730f",
   "metadata": {},
   "outputs": [
    {
     "name": "stdout",
     "output_type": "stream",
     "text": [
      "Value(data=6.0)\n"
     ]
    },
    {
     "data": {
      "text/plain": [
       "__main__.Value"
      ]
     },
     "execution_count": 36,
     "metadata": {},
     "output_type": "execute_result"
    }
   ],
   "source": [
    "print(a*b)\n",
    "type(a*b)"
   ]
  },
  {
   "cell_type": "code",
   "execution_count": 38,
   "id": "d2fd3b88",
   "metadata": {},
   "outputs": [
    {
     "data": {
      "text/plain": [
       "Value(data=3.0)"
      ]
     },
     "execution_count": 38,
     "metadata": {},
     "output_type": "execute_result"
    }
   ],
   "source": [
    "a = Value(3.0)\n",
    "b = Value(-4.0)\n",
    "c = Value(15.0)\n",
    "# now we can do a*b + c using the Value objects\n",
    "a*b + c"
   ]
  },
  {
   "cell_type": "code",
   "execution_count": 90,
   "id": "f91e8d80",
   "metadata": {},
   "outputs": [],
   "source": [
    "# now we need to know the childern of every other value just to keep track of them\n",
    "# we will also need the operation so we know what operation gave us the output\n",
    "# adding labels\n",
    "class Value:\n",
    "    \n",
    "    def __init__(self,data,_childern = (), _op = \"\", label = \"\"):\n",
    "        self.data = data\n",
    "        self.grad = 0.0\n",
    "        self._prev = set(_childern)\n",
    "        self._op = _op\n",
    "        self.label = label\n",
    "        \n",
    "    def __repr__(self):\n",
    "        return f\"Value(data={self.data})\"\n",
    "    \n",
    "    def __add__(self,other):\n",
    "        out = Value(self.data+other.data, (self,other),\"+\")\n",
    "        return out\n",
    "    \n",
    "    def __mul__(self,other):\n",
    "        out = Value(self.data*other.data, (self,other),\"*\")\n",
    "        return out\n",
    "    \n",
    "\n",
    "a = Value(2, label='a')\n",
    "b = Value(-3, label='b')\n",
    "c = Value(10, label='c')\n",
    "e = a*b\n",
    "e.label = 'e'\n",
    "d = e + c\n",
    "d.label = 'd'\n",
    "f = Value(2.0,label=\"f\")\n",
    "L = d*f\n",
    "L.label = \"L\""
   ]
  },
  {
   "cell_type": "code",
   "execution_count": 91,
   "id": "cd88a45f",
   "metadata": {},
   "outputs": [
    {
     "data": {
      "text/plain": [
       "{Value(data=-6), Value(data=10)}"
      ]
     },
     "execution_count": 91,
     "metadata": {},
     "output_type": "execute_result"
    }
   ],
   "source": [
    "d._prev"
   ]
  },
  {
   "cell_type": "code",
   "execution_count": 92,
   "id": "33136d22",
   "metadata": {},
   "outputs": [
    {
     "data": {
      "text/plain": [
       "'+'"
      ]
     },
     "execution_count": 92,
     "metadata": {},
     "output_type": "execute_result"
    }
   ],
   "source": [
    "d._op # this says that we got the value d using the plus(+) operator"
   ]
  },
  {
   "cell_type": "code",
   "execution_count": 93,
   "id": "d13e53fd",
   "metadata": {},
   "outputs": [
    {
     "data": {
      "text/plain": [
       "__main__.Value"
      ]
     },
     "execution_count": 93,
     "metadata": {},
     "output_type": "execute_result"
    }
   ],
   "source": [
    "type(d)"
   ]
  },
  {
   "cell_type": "code",
   "execution_count": 99,
   "id": "4e00941d",
   "metadata": {},
   "outputs": [],
   "source": [
    "# here we are going to do the backprogation\n",
    "# we will do backprop by finding the differential of loss function wrt all the variables\n",
    "# in our case L is the loss function then dL/dL = 1\n",
    "L.grad = 1\n",
    "\n",
    "\n",
    "## dL/dd = f and dL/df = d\n",
    "d.grad = f\n",
    "f.grad = d"
   ]
  },
  {
   "cell_type": "code",
   "execution_count": 100,
   "id": "eb033305",
   "metadata": {},
   "outputs": [],
   "source": [
    "## dL/dc = \n",
    "\n"
   ]
  },
  {
   "cell_type": "code",
   "execution_count": null,
   "id": "7600adca",
   "metadata": {},
   "outputs": [],
   "source": []
  },
  {
   "cell_type": "code",
   "execution_count": 98,
   "id": "185279bf",
   "metadata": {},
   "outputs": [
    {
     "name": "stdout",
     "output_type": "stream",
     "text": [
      "6.000000000021544\n"
     ]
    }
   ],
   "source": [
    "def lol():\n",
    "    \n",
    "    h = 0.0001\n",
    "    \n",
    "    a = Value(2, label='a')\n",
    "    b = Value(-3, label='b')\n",
    "    c = Value(10, label='c')\n",
    "    e = a*b\n",
    "    e.label = 'e'\n",
    "    d = e + c\n",
    "    d.label = 'd'\n",
    "    f = Value(-2.0,label=\"f\")\n",
    "    L = d*f\n",
    "    L.label = \"L\"\n",
    "    L1 = L.data\n",
    "    \n",
    "    a = Value(2+h, label='a')\n",
    "    b = Value(-3, label='b')\n",
    "    c = Value(10, label='c')\n",
    "    e = a*b\n",
    "    e.label = 'e'\n",
    "    d = e + c\n",
    "    d.label = 'd'\n",
    "    f = Value(-2.0,label=\"f\")\n",
    "    L = d*f\n",
    "    L.label = \"L\"\n",
    "    L2 = L.data\n",
    "    \n",
    "    print((L2-L1)/h)\n",
    "lol()"
   ]
  },
  {
   "cell_type": "code",
   "execution_count": null,
   "id": "7997a7bc",
   "metadata": {},
   "outputs": [],
   "source": []
  }
 ],
 "metadata": {
  "kernelspec": {
   "display_name": "Python 3 (ipykernel)",
   "language": "python",
   "name": "python3"
  },
  "language_info": {
   "codemirror_mode": {
    "name": "ipython",
    "version": 3
   },
   "file_extension": ".py",
   "mimetype": "text/x-python",
   "name": "python",
   "nbconvert_exporter": "python",
   "pygments_lexer": "ipython3",
   "version": "3.10.11"
  }
 },
 "nbformat": 4,
 "nbformat_minor": 5
}
